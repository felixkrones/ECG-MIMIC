{
 "cells": [
  {
   "cell_type": "markdown",
   "id": "9ecab08c",
   "metadata": {},
   "source": [
    "# Test code"
   ]
  },
  {
   "cell_type": "markdown",
   "id": "4c065a59",
   "metadata": {},
   "source": [
    "### 1.1 Datasets preprocessing"
   ]
  },
  {
   "cell_type": "code",
   "execution_count": null,
   "id": "ceede53c",
   "metadata": {},
   "outputs": [],
   "source": [
    "python full_preprocessing.py --mimic-path '/data/wolf6245/src/mm_study/data/a_raw/MIMIC/MIMIC-IV/' --zip-path '/data/wolf6245/src/mm_study/data/a_raw/MIMIC/MIMIC-IV-ECG/' --target-path '/data/wolf6245/src/ECG-MIMIC/data' --filter_file \"/data/wolf6245/src/mm_study/data/f_modelling/03_model_input/data-2024-12-19-01-23-23/(3) Chronic ischaemic heart disease/y_fusion_label_not_gt.parquet\""
   ]
  },
  {
   "cell_type": "markdown",
   "id": "6899e107",
   "metadata": {},
   "source": [
    "## Filter"
   ]
  },
  {
   "cell_type": "code",
   "execution_count": 1,
   "id": "d5e8363f",
   "metadata": {},
   "outputs": [],
   "source": [
    "import pandas as pd\n",
    "import numpy as np\n",
    "import pickle\n",
    "import os"
   ]
  },
  {
   "cell_type": "code",
   "execution_count": 2,
   "id": "279c5c64",
   "metadata": {},
   "outputs": [
    {
     "name": "stdout",
     "output_type": "stream",
     "text": [
      "Filtered subject_ids: records from 55720 to 55720\n",
      "Filtered subject_ids: records_w_diag from 55720 to 55720\n",
      "Filtered subject_ids: records_w_diag_icd10 from 55720 to 55720\n",
      "Filtered subject_ids: df from 55720 to 55720\n",
      "Filtered subject_ids: df_memmap from 55720 to 55720\n",
      "Filtered hadm_ids: records_w_diag from 55720 to 17200\n",
      "Filtered hadm_ids: records_w_diag_icd10 from 55720 to 17200\n",
      "Filtered study_ids: df from 55720 to 17200\n",
      "Filtered study_ids: records from 55720 to 17200\n",
      "Filtered study_ids: df_memmap from 55720 to 17200\n",
      "Filtered records_filtered from 5278 to 5278\n",
      "Filtered records_w_diag_filtered from 5278 to 5278\n",
      "Filtered records_w_diag_icd10_filtered from 5278 to 5278\n",
      "Filtered df_filtered from 5278 to 5278\n",
      "Filtered df_memmap_filtered from 5278 to 5278\n"
     ]
    }
   ],
   "source": [
    "# Define data\n",
    "df_filter = pd.read_parquet(\"/data/wolf6245/src/mm_study/data/f_modelling/03_model_input/data-2024-12-19-01-23-23/(3) Chronic ischaemic heart disease/y_fusion_label_not_gt.parquet\")\n",
    "df_folds = pd.read_pickle(\"/data/wolf6245/src/mm_study/data/f_modelling/03_model_input/data-2024-12-19-01-23-23/(3) Chronic ischaemic heart disease/train_test_vali_folds_fusion_label.pkl\")\n",
    "subject_ids_to_use = df_filter['subject_id'].unique()\n",
    "hadm_ids_to_use = df_filter['hadm_id'].unique()\n",
    "folder_processed_records = \"/data/wolf6245/src/ECG-MIMIC/data/processed\"\n",
    "\n",
    "# Load data\n",
    "records = pd.read_pickle(\"/data/wolf6245/src/ECG-MIMIC/data/records.pkl\")\n",
    "records_w_diag = pd.read_pickle(\"/data/wolf6245/src/ECG-MIMIC/data/records_w_diag.pkl\")\n",
    "records_w_diag_icd10 = pd.read_csv(\"/data/wolf6245/src/ECG-MIMIC/data/records_w_diag_icd10.csv\")\n",
    "std = np.load(\"/data/wolf6245/src/ECG-MIMIC/data/processed/std.npy\")\n",
    "mean = np.load(\"/data/wolf6245/src/ECG-MIMIC/data/processed/mean.npy\")\n",
    "lbl_itos = np.load(\"/data/wolf6245/src/ECG-MIMIC/data/processed/lbl_itos.npy\")\n",
    "df = pd.read_pickle(\"/data/wolf6245/src/ECG-MIMIC/data/processed/df.pkl\")\n",
    "memmap_meta = np.load(\"/data/wolf6245/src/ECG-MIMIC/data/memmap/memmap_meta.npz\", allow_pickle=True)\n",
    "df_memmap = pd.read_pickle(\"/data/wolf6245/src/ECG-MIMIC/data/memmap/df_memmap.pkl\")\n",
    "# memmap = np.load(\"/data/wolf6245/src/ECG-MIMIC/data/memmap/memmap.npy\", allow_pickle=True)\n",
    "\n",
    "# Filter to subject_ids\n",
    "records_filtered = records[records['patient_id'].isin(subject_ids_to_use)].copy()\n",
    "records_w_diag_filtered = records_w_diag[records_w_diag['subject_id'].isin(subject_ids_to_use)].copy()\n",
    "records_w_diag_icd10_filtered = records_w_diag_icd10[records_w_diag_icd10['subject_id'].isin(subject_ids_to_use)].copy()\n",
    "df_filtered = df[df['subject_id'].isin(subject_ids_to_use)].copy()\n",
    "df_memmap_filtered = df_memmap[df_memmap['subject_id'].isin(subject_ids_to_use)].copy()\n",
    "print(f\"Filtered subject_ids: records from {len(records)} to {len(records_filtered)}\")\n",
    "print(f\"Filtered subject_ids: records_w_diag from {len(records_w_diag)} to {len(records_w_diag_filtered)}\")\n",
    "print(f\"Filtered subject_ids: records_w_diag_icd10 from {len(records_w_diag_icd10)} to {len(records_w_diag_icd10_filtered)}\")\n",
    "print(f\"Filtered subject_ids: df from {len(df)} to {len(df_filtered)}\")\n",
    "print(f\"Filtered subject_ids: df_memmap from {len(df_memmap)} to {len(df_memmap_filtered)}\")\n",
    "\n",
    "# Filter to hadm_ids\n",
    "records_w_diag_filtered_len = len(records_w_diag_filtered)\n",
    "records_w_diag_icd10_filtered_len = len(records_w_diag_icd10_filtered)\n",
    "df_filtered_len = len(df_filtered)\n",
    "records_filtered_len = len(records_filtered)\n",
    "records_w_diag_filtered = records_w_diag_filtered.dropna(subset=['hosp_hadm_id'])\n",
    "records_w_diag_filtered = records_w_diag_filtered[records_w_diag_filtered['hosp_hadm_id'].astype(int).isin(hadm_ids_to_use)].copy()\n",
    "records_w_diag_icd10_filtered = records_w_diag_icd10_filtered.dropna(subset=['hosp_hadm_id'])\n",
    "records_w_diag_icd10_filtered = records_w_diag_icd10_filtered[records_w_diag_icd10_filtered['hosp_hadm_id'].astype(int).isin(hadm_ids_to_use)].copy()\n",
    "study_ids_to_use = records_w_diag_filtered['study_id'].unique()\n",
    "df_filtered = df_filtered[df_filtered['study_id'].isin(study_ids_to_use)].copy()\n",
    "records_filtered = records_filtered[records_filtered['study_id'].isin(study_ids_to_use)].copy()\n",
    "df_memmap_filtered_len = len(df_memmap_filtered)\n",
    "df_memmap_filtered = df_memmap_filtered[df_memmap_filtered['study_id'].isin(study_ids_to_use)].copy()\n",
    "print(f\"Filtered hadm_ids: records_w_diag from {records_w_diag_filtered_len} to {len(records_w_diag_filtered)}\")\n",
    "print(f\"Filtered hadm_ids: records_w_diag_icd10 from {records_w_diag_icd10_filtered_len} to {len(records_w_diag_icd10_filtered)}\")\n",
    "print(f\"Filtered study_ids: df from {df_filtered_len} to {len(df_filtered)}\")\n",
    "print(f\"Filtered study_ids: records from {records_filtered_len} to {len(records_filtered)}\")\n",
    "print(f\"Filtered study_ids: df_memmap from {df_memmap_filtered_len} to {len(df_memmap_filtered)}\")\n",
    "\n",
    "# Filter to only one row per subject_id\n",
    "if True:\n",
    "    records_filtered = records_filtered.sort_values(by=['patient_id', 'study_id']).drop_duplicates(subset=['patient_id'], keep='first')\n",
    "    records_w_diag_filtered = records_w_diag_filtered.sort_values(by=['subject_id', 'study_id']).drop_duplicates(subset=['subject_id'], keep='first')\n",
    "    records_w_diag_icd10_filtered = records_w_diag_icd10_filtered.sort_values(by=['subject_id', 'study_id']).drop_duplicates(subset=['subject_id'], keep='first')\n",
    "    df_filtered = df_filtered.sort_values(by=['subject_id', 'study_id']).drop_duplicates(subset=['subject_id'], keep='first')\n",
    "    df_memmap_filtered = df_memmap_filtered.sort_values(by=['subject_id', 'study_id']).drop_duplicates(subset=['subject_id'], keep='first')\n",
    "    print(f\"Filtered records_filtered from {len(records_filtered)} to {len(records_filtered)}\")\n",
    "    print(f\"Filtered records_w_diag_filtered from {len(records_w_diag_filtered)} to {len(records_w_diag_filtered)}\")\n",
    "    print(f\"Filtered records_w_diag_icd10_filtered from {len(records_w_diag_icd10_filtered)} to {len(records_w_diag_icd10_filtered)}\")\n",
    "    print(f\"Filtered df_filtered from {len(df_filtered)} to {len(df_filtered)}\")\n",
    "    print(f\"Filtered df_memmap_filtered from {len(df_memmap_filtered)} to {len(df_memmap_filtered)}\")\n",
    "\n",
    "# Add folds\n",
    "df_filtered['fold'] = np.nan\n",
    "df_memmap_filtered['fold'] = np.nan\n",
    "for i, fold in enumerate(df_folds):\n",
    "    test_ids = fold[1]\n",
    "    df_filtered.loc[df_filtered[\"subject_id\"].isin(test_ids), \"fold\"] = i\n",
    "    df_memmap_filtered.loc[df_memmap_filtered[\"subject_id\"].isin(test_ids), \"fold\"] = i\n",
    "\n",
    "# Save filtered data back\n",
    "if True:\n",
    "    records_filtered.to_pickle(\"/data/wolf6245/src/ECG-MIMIC/data/records.pkl\")\n",
    "    records_w_diag_filtered.to_pickle(\"/data/wolf6245/src/ECG-MIMIC/data/records_w_diag.pkl\")\n",
    "    records_w_diag_icd10_filtered.to_csv(\"/data/wolf6245/src/ECG-MIMIC/data/records_w_diag_icd10.csv\", index=False)\n",
    "    df_filtered.to_pickle(\"/data/wolf6245/src/ECG-MIMIC/data/processed/df.pkl\")\n",
    "    df_memmap_filtered.to_pickle(\"/data/wolf6245/src/ECG-MIMIC/data/memmap/df_memmap.pkl\")\n",
    "\n",
    "# Delete files not in df_filtered.data\n",
    "if False:\n",
    "    files_to_keep = df_filtered['data'].unique()\n",
    "    all_files = os.listdir(folder_processed_records)\n",
    "    all_files = [f for f in all_files if f.startswith('p')]\n",
    "    files_to_delete = [f for f in all_files if f not in files_to_keep]\n",
    "    # for f in files_to_delete:\n",
    "    #     os.remove(os.path.join(folder_processed_records, f))\n",
    "    print(f\"Deleted {len(files_to_delete)} files from {len(all_files)} files in {folder_processed_records}\")"
   ]
  },
  {
   "cell_type": "code",
   "execution_count": 7,
   "id": "1ab496a2",
   "metadata": {},
   "outputs": [
    {
     "ename": "ImportError",
     "evalue": "cannot import name 'set_build_options' from 'pykeops.config' (/data/wolf6245/envs/miniconda3/envs/ecg/lib/python3.11/site-packages/pykeops/config.py)",
     "output_type": "error",
     "traceback": [
      "\u001b[31m---------------------------------------------------------------------------\u001b[39m",
      "\u001b[31mImportError\u001b[39m                               Traceback (most recent call last)",
      "\u001b[36mCell\u001b[39m\u001b[36m \u001b[39m\u001b[32mIn[7]\u001b[39m\u001b[32m, line 1\u001b[39m\n\u001b[32m----> \u001b[39m\u001b[32m1\u001b[39m \u001b[38;5;28;01mfrom\u001b[39;00m\u001b[38;5;250m \u001b[39m\u001b[34;01mpykeops\u001b[39;00m\u001b[34;01m.\u001b[39;00m\u001b[34;01mconfig\u001b[39;00m\u001b[38;5;250m \u001b[39m\u001b[38;5;28;01mimport\u001b[39;00m set_build_options, clean_keops\n\u001b[32m      3\u001b[39m set_build_options(cuda_type=\u001b[33m\"\u001b[39m\u001b[33mnvcc\u001b[39m\u001b[33m\"\u001b[39m)\n\u001b[32m      4\u001b[39m clean_keops()\n",
      "\u001b[31mImportError\u001b[39m: cannot import name 'set_build_options' from 'pykeops.config' (/data/wolf6245/envs/miniconda3/envs/ecg/lib/python3.11/site-packages/pykeops/config.py)"
     ]
    }
   ],
   "source": [
    "from pykeops.config import set_build_options, clean_keops\n",
    "\n",
    "set_build_options(cuda_type=\"nvcc\")\n",
    "clean_keops()\n",
    "\n",
    "# Then import and run your model code\n"
   ]
  },
  {
   "cell_type": "markdown",
   "id": "1d2bb819",
   "metadata": {},
   "source": [
    "### 1.2 Models training"
   ]
  },
  {
   "cell_type": "code",
   "execution_count": null,
   "id": "cb373af1",
   "metadata": {},
   "outputs": [],
   "source": [
    "python main_ecg.py --data \"/data/wolf6245/src/ECG-MIMIC/data\" --input-size 250 --finetune-dataset mimic_ed_all_edfirst_all_2000_5A --architecture s4 --precision 32 --s4-n 8 --s4-h 512 --batch-size 32 --epochs 20 --export-predictions-path \"T(ED2ALL)-E(ED2ALL)/\" > \"T(ED2ALL)-E(ED2ALL).log\""
   ]
  }
 ],
 "metadata": {
  "kernelspec": {
   "display_name": "ecg",
   "language": "python",
   "name": "python3"
  },
  "language_info": {
   "codemirror_mode": {
    "name": "ipython",
    "version": 3
   },
   "file_extension": ".py",
   "mimetype": "text/x-python",
   "name": "python",
   "nbconvert_exporter": "python",
   "pygments_lexer": "ipython3",
   "version": "3.11.11"
  }
 },
 "nbformat": 4,
 "nbformat_minor": 5
}
